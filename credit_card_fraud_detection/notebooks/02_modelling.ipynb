{
 "cells": [
  {
   "cell_type": "code",
   "execution_count": 36,
   "id": "b5e77a81",
   "metadata": {},
   "outputs": [],
   "source": [
    "import os\n",
    "import sys\n",
    "import pandas as pd\n",
    "\n",
    "# 1️⃣ Add the project root (one level above /notebooks) to the very beginning of sys.path\n",
    "project_root = os.path.abspath(os.path.join(os.getcwd(), '..'))\n",
    "if project_root not in sys.path:\n",
    "    sys.path.insert(0, project_root)\n",
    "\n",
    "# 2️⃣ Import after the path has been updated\n",
    "from ccfd_utils.preprocessing import preprocess_data\n",
    "\n",
    "# 3️⃣ Load and preprocess the data\n",
    "df = pd.read_csv('../data/creditcard.csv')\n",
    "X_train, X_test, y_train, y_test = preprocess_data(df)\n"
   ]
  }
 ],
 "metadata": {
  "kernelspec": {
   "display_name": "Python 3",
   "language": "python",
   "name": "python3"
  },
  "language_info": {
   "codemirror_mode": {
    "name": "ipython",
    "version": 3
   },
   "file_extension": ".py",
   "mimetype": "text/x-python",
   "name": "python",
   "nbconvert_exporter": "python",
   "pygments_lexer": "ipython3",
   "version": "3.13.1"
  }
 },
 "nbformat": 4,
 "nbformat_minor": 5
}
